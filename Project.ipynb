{
 "cells": [
  {
   "cell_type": "markdown",
   "metadata": {},
   "source": [
    "Imports"
   ]
  },
  {
   "cell_type": "code",
   "execution_count": 2,
   "metadata": {},
   "outputs": [],
   "source": [
    "from time import sleep\n",
    "import pickle, json, pyautogui\n",
    "\n",
    "from selenium import webdriver\n",
    "from selenium.webdriver.chrome.service import Service\n",
    "from selenium.webdriver.chrome.options import Options\n",
    "from selenium.webdriver.common.by import By\n",
    "from selenium.webdriver.common.keys import Keys\n",
    "\n",
    "from webdriver_manager.chrome import ChromeDriverManager\n"
   ]
  },
  {
   "cell_type": "markdown",
   "metadata": {},
   "source": [
    "WebDriver Initialization"
   ]
  },
  {
   "cell_type": "code",
   "execution_count": 4,
   "metadata": {},
   "outputs": [
    {
     "name": "stdout",
     "output_type": "stream",
     "text": [
      "\n"
     ]
    },
    {
     "name": "stderr",
     "output_type": "stream",
     "text": [
      "[WDM] - ====== WebDriver manager ======\n",
      "[WDM] - Current google-chrome version is 105.0.5195\n",
      "[WDM] - Get LATEST chromedriver version for 105.0.5195 google-chrome\n",
      "[WDM] - Driver [C:\\Users\\shiva\\.wdm\\drivers\\chromedriver\\win32\\105.0.5195.52\\chromedriver.exe] found in cache\n"
     ]
    }
   ],
   "source": [
    "options = Options()\n",
    "options.add_argument(\"start-maximized\")\n",
    "# options.add_argument(\n",
    "#     {\"user-data-dir\": r\"C:\\Users\\shiva\\AppData\\Local\\Google\\Chrome\\User Data\\Default\"}\n",
    "# )\n",
    "\n",
    "driver = webdriver.Chrome(\n",
    "    service=Service(ChromeDriverManager().install()), options=options\n",
    ")\n",
    "pyautogui.hotkey(\"win\", \"d\")\n",
    "pyautogui.hotkey(\"alt\", \"tab\")\n",
    "pyautogui.hotkey(\"alt\", \"tab\")\n"
   ]
  },
  {
   "cell_type": "markdown",
   "metadata": {},
   "source": [
    "Login Sequence"
   ]
  },
  {
   "cell_type": "code",
   "execution_count": 3,
   "metadata": {},
   "outputs": [],
   "source": [
    "# driver.get(\"https://www.swiggy.com\")\n",
    "# driver.find_element(by=By.LINK_TEXT, value=\"Login\").click()\n",
    "# driver.find_element(by=By.NAME, value=\"mobile\").send_keys(\"9318335215\")\n",
    "# driver.find_element(by=By.NAME, value=\"mobile\").send_keys(Keys.ENTER)\n",
    "# sleep(20)\n",
    "# driver.find_element(by=By.CLASS_NAME, value=\"_24Etq\").click()\n"
   ]
  },
  {
   "cell_type": "markdown",
   "metadata": {},
   "source": [
    "Location Sequence"
   ]
  },
  {
   "cell_type": "code",
   "execution_count": 5,
   "metadata": {},
   "outputs": [],
   "source": [
    "driver.get(\"https://swiggy.com\")\n",
    "driver.find_element(by=By.NAME, value=\"location\").send_keys(\n",
    "    \"Dwarka Sector 11, Dwarka, Delhi, India\"\n",
    ")\n",
    "sleep(2)\n",
    "driver.find_element(by=By.CLASS_NAME, value=\"_2W-T9\").click()\n",
    "sleep(2)\n"
   ]
  },
  {
   "cell_type": "markdown",
   "metadata": {},
   "source": [
    "Scroll to the Bottom"
   ]
  },
  {
   "cell_type": "code",
   "execution_count": 6,
   "metadata": {},
   "outputs": [],
   "source": [
    "scroll_pause_time = 2\n",
    "last_height = driver.execute_script(\"return document.body.scrollHeight\")\n",
    "\n",
    "while True:\n",
    "    # Scroll down to bottom\n",
    "    # driver.execute_script(\"window.scrollTo(0, document.body.scrollHeight);\")\n",
    "    driver.execute_script(\n",
    "        \"window.scrollTo({top: document.body.scrollHeight-7000,left: 0,behavior: 'smooth'});\"\n",
    "    )\n",
    "\n",
    "    # Wait to load page\n",
    "    sleep(scroll_pause_time)\n",
    "\n",
    "    # Calculate new scroll height and compare with last scroll height\n",
    "    new_height = driver.execute_script(\"return document.body.scrollHeight\")\n",
    "    if new_height == last_height:\n",
    "        break\n",
    "    last_height = new_height\n"
   ]
  },
  {
   "cell_type": "markdown",
   "metadata": {},
   "source": [
    "Create Restraunt's Links List"
   ]
  },
  {
   "cell_type": "code",
   "execution_count": 7,
   "metadata": {},
   "outputs": [
    {
     "name": "stdout",
     "output_type": "stream",
     "text": [
      "Restraunts Found: 271/1022\n"
     ]
    }
   ],
   "source": [
    "no_of_restraunts = driver.find_element(by=By.CLASS_NAME, value=\"BZR3j\").text[0:-12]\n",
    "restraunt_elements_list = driver.find_elements(by=By.CSS_SELECTOR, value=\".undefined a\")\n",
    "restraunt_links_list = []\n",
    "for restraunt_element in restraunt_elements_list:\n",
    "    if (\n",
    "        restraunt_element.get_attribute(\"href\") != \"https://www.swiggy.com/search\"\n",
    "        and restraunt_element.get_attribute(\"href\") != None\n",
    "    ):\n",
    "        restraunt_links_list.append(restraunt_element.get_attribute(\"href\"))\n",
    "\n",
    "print(f\"Restraunts Found: {len(restraunt_links_list)}/{no_of_restraunts}\")\n",
    "\n",
    "with open(\"restraunt_links_list.log\", \"wb\") as file1:\n",
    "    pickle.dump(restraunt_links_list, file1)\n"
   ]
  },
  {
   "cell_type": "markdown",
   "metadata": {},
   "source": [
    "Verify Restraunt's Links List"
   ]
  },
  {
   "cell_type": "code",
   "execution_count": 8,
   "metadata": {},
   "outputs": [
    {
     "name": "stdout",
     "output_type": "stream",
     "text": [
      "Links Saved: 271\n"
     ]
    }
   ],
   "source": [
    "with open(\"restraunt_links_list.log\", \"rb\") as file1:\n",
    "    restraunt_links_list = pickle.load(file1)\n",
    "print(f\"Links Saved: {len(restraunt_links_list)}\")\n",
    "# print(restraunt_links_list)\n"
   ]
  },
  {
   "cell_type": "markdown",
   "metadata": {},
   "source": [
    "Collect Data"
   ]
  },
  {
   "cell_type": "code",
   "execution_count": 8,
   "metadata": {},
   "outputs": [],
   "source": [
    "data = []\n",
    "for restraunt_number in range(0, 10):\n",
    "    restraunt_data = {}\n",
    "\n",
    "    driver.get(restraunt_links_list[restraunt_number])\n",
    "\n",
    "    restraunt_data[\"restraunt_name\"] = driver.find_element(by=By.CLASS_NAME, value=\"_3aqeL\").text\n",
    "    restraunt_data[\"restraunt_category\"] = (\n",
    "        driver.find_element(by=By.CLASS_NAME, value=\"JMACF\").text\n",
    "    ).split(\", \")\n",
    "    restraunt_data[\"restraunt_address\"] = driver.find_element(\n",
    "        by=By.CLASS_NAME, value=\"_2Y6HW\"\n",
    "    ).text\n",
    "\n",
    "    info_list = driver.find_elements(by=By.CSS_SELECTOR, value=\"._2fC4N div div span\")\n",
    "\n",
    "    restraunt_data[\"rating\"] = info_list[0].text\n",
    "    restraunt_data[\"delivery time\"] = info_list[3].text[:-5]\n",
    "    restraunt_data[\"average_cost\"] = info_list[4].text[2:]\n",
    "\n",
    "    \"\"\"\n",
    "    Collect Data (2)\n",
    "    \"\"\"\n",
    "\n",
    "    restraunt_data[\"menu\"] = []\n",
    "    category_class_list = driver.find_elements(by=By.CSS_SELECTOR, value=\"._1J_la ._2dS-v\")\n",
    "    category_id_list = []\n",
    "    for category_class in category_class_list:\n",
    "        category_id_list.append(category_class.get_attribute(\"id\"))\n",
    "    for category_id in category_id_list:\n",
    "        category_data = {}\n",
    "        category_data[\"category_name\"] = driver.find_element(\n",
    "            by=By.CSS_SELECTOR, value=f\"._1J_la #{category_id} .M_o7R\"\n",
    "        ).text\n",
    "        category_data[\"sub_categories\"] = []\n",
    "        sub_category_class_list = driver.find_elements(\n",
    "            by=By.CSS_SELECTOR, value=f\"._1J_la #{category_id} ._1Jgt5\"\n",
    "        )\n",
    "        sub_category_id_list = []\n",
    "        for sub_category_class in sub_category_class_list:\n",
    "            sub_category_id_list.append(sub_category_class.get_attribute(\"id\"))\n",
    "        for sub_category_id in sub_category_id_list:\n",
    "            sub_category_data = {}\n",
    "            sub_category_data[\"sub_category_name\"] = driver.find_element(\n",
    "                by=By.CSS_SELECTOR,\n",
    "                value=f\"._1J_la #{category_id} #{sub_category_id} ._2WzQq\",\n",
    "            ).text\n",
    "            sub_category_data[\"items\"] = []\n",
    "            item_name_list = driver.find_elements(\n",
    "                by=By.CSS_SELECTOR, value=f\"._1J_la #{category_id} #{sub_category_id} .styles_itemNameText__3ZmZZ\"\n",
    "            )\n",
    "            item_price_list = driver.find_elements(\n",
    "                by=By.CSS_SELECTOR, value=f\"._1J_la #{category_id} #{sub_category_id} .rupee\"\n",
    "            )\n",
    "            item_desc_list = driver.find_elements(\n",
    "                by=By.CSS_SELECTOR, value=f\"._1J_la #{category_id} #{sub_category_id} .styles_itemDesc__3vhM0\"\n",
    "            )\n",
    "            for item_no in range (0,len(item_name_list)):\n",
    "                item_data={}\n",
    "                item_data[\"item_name\"]=item_name_list[item_no].text\n",
    "                item_data[\"item_price\"]=item_price_list[item_no].text\n",
    "                # item_data[\"item_desc\"]=item_desc_list[item_no]\n",
    "                sub_category_data[\"items\"].append(item_data)\n",
    "            category_data[\"sub_categories\"].append(sub_category_data)\n",
    "        restraunt_data[\"menu\"].append(category_data)\n",
    "    data.append(restraunt_data)\n",
    "\n",
    "json_data = json.dumps(data, indent=4)\n",
    "# print(json_data)\n"
   ]
  },
  {
   "cell_type": "markdown",
   "metadata": {},
   "source": [
    "Store Data to JSON File"
   ]
  },
  {
   "cell_type": "code",
   "execution_count": null,
   "metadata": {},
   "outputs": [],
   "source": [
    "with open(\"data.json\", \"w\") as file2:\n",
    "    json.dump(data, file2)\n"
   ]
  },
  {
   "cell_type": "markdown",
   "metadata": {},
   "source": [
    "Quit WebDriver"
   ]
  },
  {
   "cell_type": "code",
   "execution_count": null,
   "metadata": {},
   "outputs": [],
   "source": [
    "driver.quit()"
   ]
  }
 ],
 "metadata": {
  "kernelspec": {
   "display_name": "Python 3.10.5 ('venv_selenium': venv)",
   "language": "python",
   "name": "python3"
  },
  "language_info": {
   "codemirror_mode": {
    "name": "ipython",
    "version": 3
   },
   "file_extension": ".py",
   "mimetype": "text/x-python",
   "name": "python",
   "nbconvert_exporter": "python",
   "pygments_lexer": "ipython3",
   "version": "3.10.5"
  },
  "orig_nbformat": 4,
  "vscode": {
   "interpreter": {
    "hash": "8fcc3160a57ae2281824311efda404216dd868292f73382717bd77ab49039191"
   }
  }
 },
 "nbformat": 4,
 "nbformat_minor": 2
}
