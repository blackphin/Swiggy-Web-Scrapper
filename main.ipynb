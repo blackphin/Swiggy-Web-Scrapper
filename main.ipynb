{
 "cells": [
  {
   "cell_type": "markdown",
   "metadata": {},
   "source": [
    "Imports"
   ]
  },
  {
   "cell_type": "code",
   "execution_count": 64,
   "metadata": {},
   "outputs": [],
   "source": [
    "from time import sleep\n",
    "\n",
    "from selenium import webdriver\n",
    "from selenium.webdriver.chrome.service import Service\n",
    "from selenium.webdriver.chrome.options import Options\n",
    "from selenium.webdriver.common.by import By\n",
    "from selenium.webdriver.common.keys import Keys\n",
    "\n",
    "from webdriver_manager.chrome import ChromeDriverManager"
   ]
  },
  {
   "cell_type": "markdown",
   "metadata": {},
   "source": [
    "WebDriver Initialization"
   ]
  },
  {
   "cell_type": "code",
   "execution_count": 65,
   "metadata": {},
   "outputs": [
    {
     "name": "stdout",
     "output_type": "stream",
     "text": [
      "\n"
     ]
    },
    {
     "name": "stderr",
     "output_type": "stream",
     "text": [
      "[WDM] - ====== WebDriver manager ======\n",
      "[WDM] - Current google-chrome version is 102.0.5005\n",
      "[WDM] - Get LATEST chromedriver version for 102.0.5005 google-chrome\n",
      "[WDM] - Driver [C:\\Users\\shiva\\.wdm\\drivers\\chromedriver\\win32\\102.0.5005.61\\chromedriver.exe] found in cache\n"
     ]
    }
   ],
   "source": [
    "options = Options()\n",
    "options.add_argument(\"start-maximized\")\n",
    "# options.add_argument(\n",
    "#     {\"user-data-dir\": r\"C:\\Users\\shiva\\AppData\\Local\\Google\\Chrome\\User Data\\Default\"}\n",
    "# )\n",
    "\n",
    "driver = webdriver.Chrome(\n",
    "    service=Service(ChromeDriverManager().install()), options=options\n",
    ")"
   ]
  },
  {
   "cell_type": "markdown",
   "metadata": {},
   "source": [
    "Login Sequence"
   ]
  },
  {
   "cell_type": "code",
   "execution_count": 66,
   "metadata": {},
   "outputs": [],
   "source": [
    "driver.get(\"https://www.swiggy.com\")\n",
    "driver.find_element(by=By.LINK_TEXT, value=\"Login\").click()\n",
    "driver.find_element(by=By.NAME, value=\"mobile\").send_keys(\"9318335215\")\n",
    "driver.find_element(by=By.NAME, value=\"mobile\").send_keys(Keys.ENTER)\n",
    "sleep(20)\n",
    "driver.find_element(by=By.CLASS_NAME, value=\"_24Etq\").click()"
   ]
  },
  {
   "cell_type": "markdown",
   "metadata": {},
   "source": [
    "Location Sequence"
   ]
  },
  {
   "cell_type": "code",
   "execution_count": null,
   "metadata": {},
   "outputs": [],
   "source": [
    "driver.get(\"https://swiggy.com\")\n",
    "driver.find_element(by=By.NAME, value=\"location\").send_keys(\"Bharthal, New Delhi, Delhi, India\")\n",
    "sleep(1)\n",
    "driver.find_element(by=By.CLASS_NAME, value=\"_2W-T9\").click()\n",
    "sleep(2)"
   ]
  },
  {
   "cell_type": "markdown",
   "metadata": {},
   "source": [
    "Scroll to the Bottom"
   ]
  },
  {
   "cell_type": "code",
   "execution_count": 68,
   "metadata": {},
   "outputs": [],
   "source": [
    "SCROLL_PAUSE_TIME = 1\n",
    "last_height = driver.execute_script(\"return document.body.scrollHeight\")\n",
    "\n",
    "while True:\n",
    "    # Scroll down to bottom\n",
    "    driver.execute_script(\"window.scrollTo(0, document.body.scrollHeight);\")\n",
    "\n",
    "    # Wait to load page\n",
    "    sleep(SCROLL_PAUSE_TIME)\n",
    "\n",
    "    # Calculate new scroll height and compare with last scroll height\n",
    "    new_height = driver.execute_script(\"return document.body.scrollHeight\")\n",
    "    if new_height == last_height:\n",
    "        break\n",
    "    last_height = new_height"
   ]
  },
  {
   "cell_type": "markdown",
   "metadata": {},
   "source": [
    "Get Restraunt's Links List"
   ]
  },
  {
   "cell_type": "code",
   "execution_count": 77,
   "metadata": {},
   "outputs": [
    {
     "name": "stdout",
     "output_type": "stream",
     "text": [
      "No. of Restraunts Found: 392\n"
     ]
    }
   ],
   "source": [
    "no_of_restraunts = driver.find_element(by=By.CLASS_NAME, value=\"BZR3j\").text[0:-12]\n",
    "restraunt_element_list = driver.find_elements(by=By.CSS_SELECTOR, value=\".undefined a\")\n",
    "restraunt_links = []\n",
    "for restraunt_element in restraunt_element_list:\n",
    "    if restraunt_element.get_attribute(\"href\")!=\"https://www.swiggy.com/search\" and restraunt_element.get_attribute(\"href\")!= None:\n",
    "        restraunt_links.append(restraunt_element.get_attribute(\"href\"))\n",
    "\n",
    "if int(no_of_restraunts)==len(restraunt_links):\n",
    "    print(f\"No. of Restraunts Found: {no_of_restraunts}\")\n",
    "else:\n",
    "    print(no_of_restraunts,len(restraunt_links))"
   ]
  },
  {
   "cell_type": "markdown",
   "metadata": {},
   "source": [
    "Collect Data"
   ]
  },
  {
   "cell_type": "code",
   "execution_count": null,
   "metadata": {},
   "outputs": [],
   "source": [
    "data=[]\n",
    "for restraunt_number in range (0,10):\n",
    "    restraunt_data = {}\n",
    "\n",
    "    driver.get(restraunt_links[restraunt_number])\n",
    "    drive.find_element(by=By.CLASS_NAME, value=\"_1zVBl\").click()\n",
    "\n",
    "    restraunt_data[\"name\"] = driver.find_element(by=By.CLASS_NAME, value=\"_3aqeL\").text\n",
    "    restraunt_data[\"category\"] = (\n",
    "        driver.find_element(by=By.CLASS_NAME, value=\"JMACF\").text\n",
    "    ).split(\",\")\n",
    "    restraunt_data[\"address\"] = driver.find_element(by=By.CLASS_NAME, value=\"_2Y6HW\").text\n",
    "\n",
    "    info_list = driver.find_elements(by=By.CSS_SELECTOR, value=\"._2fC4N div div span\")\n",
    "\n",
    "    restraunt_data[\"rating\"] = info_list[0].text\n",
    "    restraunt_data[\"delivery time\"] = info_list[3].text\n",
    "    restraunt_data[\"average_cost\"] = info_list[4].text[2:]\n",
    "    \n",
    "\n",
    "    data.append(restraunt_data)\n",
    "    print(data)"
   ]
  },
  {
   "cell_type": "markdown",
   "metadata": {},
   "source": [
    "Quit WebDriver"
   ]
  },
  {
   "cell_type": "code",
   "execution_count": 78,
   "metadata": {},
   "outputs": [],
   "source": [
    "driver.quit()"
   ]
  }
 ],
 "metadata": {
  "kernelspec": {
   "display_name": "Python 3.10.5 ('venv_selenium': venv)",
   "language": "python",
   "name": "python3"
  },
  "language_info": {
   "codemirror_mode": {
    "name": "ipython",
    "version": 3
   },
   "file_extension": ".py",
   "mimetype": "text/x-python",
   "name": "python",
   "nbconvert_exporter": "python",
   "pygments_lexer": "ipython3",
   "version": "3.10.5"
  },
  "orig_nbformat": 4,
  "vscode": {
   "interpreter": {
    "hash": "8fcc3160a57ae2281824311efda404216dd868292f73382717bd77ab49039191"
   }
  }
 },
 "nbformat": 4,
 "nbformat_minor": 2
}
